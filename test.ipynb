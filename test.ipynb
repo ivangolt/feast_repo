{
 "cells": [
  {
   "cell_type": "code",
   "execution_count": 1,
   "metadata": {},
   "outputs": [],
   "source": [
    "import pandas as pd"
   ]
  },
  {
   "cell_type": "code",
   "execution_count": 9,
   "metadata": {},
   "outputs": [
    {
     "data": {
      "text/html": [
       "<div>\n",
       "<style scoped>\n",
       "    .dataframe tbody tr th:only-of-type {\n",
       "        vertical-align: middle;\n",
       "    }\n",
       "\n",
       "    .dataframe tbody tr th {\n",
       "        vertical-align: top;\n",
       "    }\n",
       "\n",
       "    .dataframe thead th {\n",
       "        text-align: right;\n",
       "    }\n",
       "</style>\n",
       "<table border=\"1\" class=\"dataframe\">\n",
       "  <thead>\n",
       "    <tr style=\"text-align: right;\">\n",
       "      <th></th>\n",
       "      <th>Unnamed: 0</th>\n",
       "      <th>date</th>\n",
       "      <th>content</th>\n",
       "      <th>outlinks</th>\n",
       "      <th>linkPreview</th>\n",
       "    </tr>\n",
       "    <tr>\n",
       "      <th>url</th>\n",
       "      <th></th>\n",
       "      <th></th>\n",
       "      <th></th>\n",
       "      <th></th>\n",
       "      <th></th>\n",
       "    </tr>\n",
       "  </thead>\n",
       "  <tbody>\n",
       "    <tr>\n",
       "      <th>https://t.me/s/jobs_in_it_remoute/24798</th>\n",
       "      <td>0</td>\n",
       "      <td>2024-06-21 06:54:56+00:00</td>\n",
       "      <td>Новая вакансия👇👇👇👇👇#vacancy #job #remote #russ...</td>\n",
       "      <td>['https://t.me/s/jobs_in_it_remoute?q=%23vacan...</td>\n",
       "      <td>{'href': 'https://t.me/+tZd-fsvTbBdmMzRi', 'si...</td>\n",
       "    </tr>\n",
       "    <tr>\n",
       "      <th>https://t.me/s/jobs_in_it_remoute/24797</th>\n",
       "      <td>1</td>\n",
       "      <td>2024-06-21 06:54:55+00:00</td>\n",
       "      <td>Новая вакансия👇👇👇👇👇#вакансия #middle #senior #...</td>\n",
       "      <td>['https://t.me/s/jobs_in_it_remoute?q=%23%D0%B...</td>\n",
       "      <td>{'href': 'https://t.me/+tZd-fsvTbBdmMzRi', 'si...</td>\n",
       "    </tr>\n",
       "    <tr>\n",
       "      <th>https://t.me/s/jobs_in_it_remoute/24796</th>\n",
       "      <td>2</td>\n",
       "      <td>2024-06-21 06:54:52+00:00</td>\n",
       "      <td>Новая вакансия👇👇👇👇👇QA Lead в команду OnlineКом...</td>\n",
       "      <td>['https://telegra.ph/QA-Lead-v-komandu-Online-...</td>\n",
       "      <td>{'href': 'https://telegra.ph/QA-Lead-v-komandu...</td>\n",
       "    </tr>\n",
       "    <tr>\n",
       "      <th>https://t.me/s/jobs_in_it_remoute/24795</th>\n",
       "      <td>3</td>\n",
       "      <td>2024-06-21 06:54:51+00:00</td>\n",
       "      <td>Новая вакансия👇👇👇👇👇Требуется «Коммуникационный...</td>\n",
       "      <td>['https://t.me/s/jobs_in_it_remoute?q=%23middl...</td>\n",
       "      <td>{'href': 'https://career.habr.com/vacancies/10...</td>\n",
       "    </tr>\n",
       "    <tr>\n",
       "      <th>https://t.me/s/jobs_in_it_remoute/24794</th>\n",
       "      <td>4</td>\n",
       "      <td>2024-06-21 06:54:50+00:00</td>\n",
       "      <td>Новая вакансия👇👇👇👇👇Требуется «TechLead PHP» (Е...</td>\n",
       "      <td>['https://t.me/s/jobs_in_it_remoute?q=%23lead'...</td>\n",
       "      <td>{'href': 'https://career.habr.com/vacancies/10...</td>\n",
       "    </tr>\n",
       "  </tbody>\n",
       "</table>\n",
       "</div>"
      ],
      "text/plain": [
       "                                         Unnamed: 0                      date  \\\n",
       "url                                                                             \n",
       "https://t.me/s/jobs_in_it_remoute/24798           0 2024-06-21 06:54:56+00:00   \n",
       "https://t.me/s/jobs_in_it_remoute/24797           1 2024-06-21 06:54:55+00:00   \n",
       "https://t.me/s/jobs_in_it_remoute/24796           2 2024-06-21 06:54:52+00:00   \n",
       "https://t.me/s/jobs_in_it_remoute/24795           3 2024-06-21 06:54:51+00:00   \n",
       "https://t.me/s/jobs_in_it_remoute/24794           4 2024-06-21 06:54:50+00:00   \n",
       "\n",
       "                                                                                   content  \\\n",
       "url                                                                                          \n",
       "https://t.me/s/jobs_in_it_remoute/24798  Новая вакансия👇👇👇👇👇#vacancy #job #remote #russ...   \n",
       "https://t.me/s/jobs_in_it_remoute/24797  Новая вакансия👇👇👇👇👇#вакансия #middle #senior #...   \n",
       "https://t.me/s/jobs_in_it_remoute/24796  Новая вакансия👇👇👇👇👇QA Lead в команду OnlineКом...   \n",
       "https://t.me/s/jobs_in_it_remoute/24795  Новая вакансия👇👇👇👇👇Требуется «Коммуникационный...   \n",
       "https://t.me/s/jobs_in_it_remoute/24794  Новая вакансия👇👇👇👇👇Требуется «TechLead PHP» (Е...   \n",
       "\n",
       "                                                                                  outlinks  \\\n",
       "url                                                                                          \n",
       "https://t.me/s/jobs_in_it_remoute/24798  ['https://t.me/s/jobs_in_it_remoute?q=%23vacan...   \n",
       "https://t.me/s/jobs_in_it_remoute/24797  ['https://t.me/s/jobs_in_it_remoute?q=%23%D0%B...   \n",
       "https://t.me/s/jobs_in_it_remoute/24796  ['https://telegra.ph/QA-Lead-v-komandu-Online-...   \n",
       "https://t.me/s/jobs_in_it_remoute/24795  ['https://t.me/s/jobs_in_it_remoute?q=%23middl...   \n",
       "https://t.me/s/jobs_in_it_remoute/24794  ['https://t.me/s/jobs_in_it_remoute?q=%23lead'...   \n",
       "\n",
       "                                                                               linkPreview  \n",
       "url                                                                                         \n",
       "https://t.me/s/jobs_in_it_remoute/24798  {'href': 'https://t.me/+tZd-fsvTbBdmMzRi', 'si...  \n",
       "https://t.me/s/jobs_in_it_remoute/24797  {'href': 'https://t.me/+tZd-fsvTbBdmMzRi', 'si...  \n",
       "https://t.me/s/jobs_in_it_remoute/24796  {'href': 'https://telegra.ph/QA-Lead-v-komandu...  \n",
       "https://t.me/s/jobs_in_it_remoute/24795  {'href': 'https://career.habr.com/vacancies/10...  \n",
       "https://t.me/s/jobs_in_it_remoute/24794  {'href': 'https://career.habr.com/vacancies/10...  "
      ]
     },
     "execution_count": 9,
     "metadata": {},
     "output_type": "execute_result"
    }
   ],
   "source": [
    "df = pd.read_parquet(\"feature_repo/data/new_posts.parquet\")\n",
    "df.head()"
   ]
  },
  {
   "cell_type": "code",
   "execution_count": 10,
   "metadata": {},
   "outputs": [],
   "source": [
    "# Creating timestamps for the data\n",
    "timestamps = pd.date_range(end=pd.Timestamp.now(), periods=len(df), freq=\"D\").to_frame(\n",
    "    name=\"event_timestamp\", index=False\n",
    ")"
   ]
  },
  {
   "cell_type": "code",
   "execution_count": 13,
   "metadata": {},
   "outputs": [
    {
     "name": "stdout",
     "output_type": "stream",
     "text": [
      "<class 'pandas.core.frame.DataFrame'>\n",
      "Index: 504 entries, https://t.me/s/jobs_in_it_remoute/24798 to https://t.me/s/over100/2443\n",
      "Data columns (total 5 columns):\n",
      " #   Column       Non-Null Count  Dtype              \n",
      "---  ------       --------------  -----              \n",
      " 0   Unnamed: 0   504 non-null    int64              \n",
      " 1   date         504 non-null    datetime64[ns, UTC]\n",
      " 2   content      503 non-null    object             \n",
      " 3   outlinks     504 non-null    object             \n",
      " 4   linkPreview  102 non-null    object             \n",
      "dtypes: datetime64[ns, UTC](1), int64(1), object(3)\n",
      "memory usage: 23.6+ KB\n"
     ]
    }
   ],
   "source": [
    "df.info()"
   ]
  },
  {
   "cell_type": "code",
   "execution_count": null,
   "metadata": {},
   "outputs": [],
   "source": []
  },
  {
   "cell_type": "code",
   "execution_count": 5,
   "metadata": {},
   "outputs": [
    {
     "data": {
      "text/plain": [
       "[feast.data_source.KafkaSource,\n",
       " feast.data_source.RequestSource,\n",
       " feast.data_source.KinesisSource,\n",
       " feast.data_source.PushSource,\n",
       " feast.infra.offline_stores.bigquery_source.BigQuerySource,\n",
       " feast.infra.offline_stores.contrib.athena_offline_store.athena_source.AthenaSource,\n",
       " feast.infra.offline_stores.file_source.FileSource,\n",
       " feast.infra.offline_stores.redshift_source.RedshiftSource,\n",
       " feast.infra.offline_stores.snowflake_source.SnowflakeSource,\n",
       " feast.infra.offline_stores.contrib.mssql_offline_store.mssqlserver_source.MsSqlServerSource]"
      ]
     },
     "execution_count": 5,
     "metadata": {},
     "output_type": "execute_result"
    }
   ],
   "source": [
    "from feast.data_source import DataSource\n",
    "\n",
    "DataSource.__subclasses__()"
   ]
  },
  {
   "cell_type": "code",
   "execution_count": 6,
   "metadata": {},
   "outputs": [
    {
     "name": "stderr",
     "output_type": "stream",
     "text": [
      "<>:1: DeprecationWarning: invalid escape sequence '\\d'\n"
     ]
    },
    {
     "data": {
      "text/html": [
       "<div><style>\n",
       ".dataframe > thead > tr,\n",
       ".dataframe > tbody > tr {\n",
       "  text-align: right;\n",
       "  white-space: pre-wrap;\n",
       "}\n",
       "</style>\n",
       "<small>shape: (1_807, 6)</small><table border=\"1\" class=\"dataframe\"><thead><tr><th>event_timestamp</th><th>driver_id</th><th>conv_rate</th><th>acc_rate</th><th>avg_daily_trips</th><th>created</th></tr><tr><td>datetime[ns, UTC]</td><td>i64</td><td>f32</td><td>f32</td><td>i32</td><td>datetime[μs]</td></tr></thead><tbody><tr><td>2024-06-10 19:00:00 UTC</td><td>1005</td><td>0.981589</td><td>0.705929</td><td>502</td><td>2024-06-25 19:45:41.204</td></tr><tr><td>2024-06-10 20:00:00 UTC</td><td>1005</td><td>0.467421</td><td>0.947678</td><td>935</td><td>2024-06-25 19:45:41.204</td></tr><tr><td>2024-06-10 21:00:00 UTC</td><td>1005</td><td>0.887109</td><td>0.377602</td><td>955</td><td>2024-06-25 19:45:41.204</td></tr><tr><td>2024-06-10 22:00:00 UTC</td><td>1005</td><td>0.731332</td><td>0.35755</td><td>831</td><td>2024-06-25 19:45:41.204</td></tr><tr><td>2024-06-10 23:00:00 UTC</td><td>1005</td><td>0.69043</td><td>0.816192</td><td>83</td><td>2024-06-25 19:45:41.204</td></tr><tr><td>&hellip;</td><td>&hellip;</td><td>&hellip;</td><td>&hellip;</td><td>&hellip;</td><td>&hellip;</td></tr><tr><td>2024-06-25 17:00:00 UTC</td><td>1001</td><td>0.359931</td><td>0.79587</td><td>117</td><td>2024-06-25 19:45:41.204</td></tr><tr><td>2024-06-25 18:00:00 UTC</td><td>1001</td><td>0.24773</td><td>0.38144</td><td>709</td><td>2024-06-25 19:45:41.204</td></tr><tr><td>2021-04-12 07:00:00 UTC</td><td>1001</td><td>0.596786</td><td>0.601635</td><td>494</td><td>2024-06-25 19:45:41.204</td></tr><tr><td>2024-06-18 07:00:00 UTC</td><td>1003</td><td>0.097722</td><td>0.566466</td><td>426</td><td>2024-06-25 19:45:41.204</td></tr><tr><td>2024-06-18 07:00:00 UTC</td><td>1003</td><td>0.097722</td><td>0.566466</td><td>426</td><td>2024-06-25 19:45:41.204</td></tr></tbody></table></div>"
      ],
      "text/plain": [
       "shape: (1_807, 6)\n",
       "┌─────────────────────────┬───────────┬───────────┬──────────┬─────────────────┬──────────────┐\n",
       "│ event_timestamp         ┆ driver_id ┆ conv_rate ┆ acc_rate ┆ avg_daily_trips ┆ created      │\n",
       "│ ---                     ┆ ---       ┆ ---       ┆ ---      ┆ ---             ┆ ---          │\n",
       "│ datetime[ns, UTC]       ┆ i64       ┆ f32       ┆ f32      ┆ i32             ┆ datetime[μs] │\n",
       "╞═════════════════════════╪═══════════╪═══════════╪══════════╪═════════════════╪══════════════╡\n",
       "│ 2024-06-10 19:00:00 UTC ┆ 1005      ┆ 0.981589  ┆ 0.705929 ┆ 502             ┆ 2024-06-25   │\n",
       "│                         ┆           ┆           ┆          ┆                 ┆ 19:45:41.204 │\n",
       "│ 2024-06-10 20:00:00 UTC ┆ 1005      ┆ 0.467421  ┆ 0.947678 ┆ 935             ┆ 2024-06-25   │\n",
       "│                         ┆           ┆           ┆          ┆                 ┆ 19:45:41.204 │\n",
       "│ 2024-06-10 21:00:00 UTC ┆ 1005      ┆ 0.887109  ┆ 0.377602 ┆ 955             ┆ 2024-06-25   │\n",
       "│                         ┆           ┆           ┆          ┆                 ┆ 19:45:41.204 │\n",
       "│ 2024-06-10 22:00:00 UTC ┆ 1005      ┆ 0.731332  ┆ 0.35755  ┆ 831             ┆ 2024-06-25   │\n",
       "│                         ┆           ┆           ┆          ┆                 ┆ 19:45:41.204 │\n",
       "│ 2024-06-10 23:00:00 UTC ┆ 1005      ┆ 0.69043   ┆ 0.816192 ┆ 83              ┆ 2024-06-25   │\n",
       "│                         ┆           ┆           ┆          ┆                 ┆ 19:45:41.204 │\n",
       "│ …                       ┆ …         ┆ …         ┆ …        ┆ …               ┆ …            │\n",
       "│ 2024-06-25 17:00:00 UTC ┆ 1001      ┆ 0.359931  ┆ 0.79587  ┆ 117             ┆ 2024-06-25   │\n",
       "│                         ┆           ┆           ┆          ┆                 ┆ 19:45:41.204 │\n",
       "│ 2024-06-25 18:00:00 UTC ┆ 1001      ┆ 0.24773   ┆ 0.38144  ┆ 709             ┆ 2024-06-25   │\n",
       "│                         ┆           ┆           ┆          ┆                 ┆ 19:45:41.204 │\n",
       "│ 2021-04-12 07:00:00 UTC ┆ 1001      ┆ 0.596786  ┆ 0.601635 ┆ 494             ┆ 2024-06-25   │\n",
       "│                         ┆           ┆           ┆          ┆                 ┆ 19:45:41.204 │\n",
       "│ 2024-06-18 07:00:00 UTC ┆ 1003      ┆ 0.097722  ┆ 0.566466 ┆ 426             ┆ 2024-06-25   │\n",
       "│                         ┆           ┆           ┆          ┆                 ┆ 19:45:41.204 │\n",
       "│ 2024-06-18 07:00:00 UTC ┆ 1003      ┆ 0.097722  ┆ 0.566466 ┆ 426             ┆ 2024-06-25   │\n",
       "│                         ┆           ┆           ┆          ┆                 ┆ 19:45:41.204 │\n",
       "└─────────────────────────┴───────────┴───────────┴──────────┴─────────────────┴──────────────┘"
      ]
     },
     "execution_count": 6,
     "metadata": {},
     "output_type": "execute_result"
    }
   ],
   "source": [
    "df2 = pl.read_parquet(\"feature_repo\\data\\driver_stats.parquet\")\n",
    "df2"
   ]
  },
  {
   "cell_type": "code",
   "execution_count": null,
   "metadata": {},
   "outputs": [],
   "source": []
  }
 ],
 "metadata": {
  "kernelspec": {
   "display_name": ".venv",
   "language": "python",
   "name": "python3"
  },
  "language_info": {
   "codemirror_mode": {
    "name": "ipython",
    "version": 3
   },
   "file_extension": ".py",
   "mimetype": "text/x-python",
   "name": "python",
   "nbconvert_exporter": "python",
   "pygments_lexer": "ipython3",
   "version": "3.11.8"
  }
 },
 "nbformat": 4,
 "nbformat_minor": 2
}
